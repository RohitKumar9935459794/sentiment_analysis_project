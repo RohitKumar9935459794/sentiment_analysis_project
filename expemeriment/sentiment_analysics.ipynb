{
 "cells": [
  {
   "cell_type": "code",
   "execution_count": 1,
   "metadata": {
    "_cell_guid": "b1076dfc-b9ad-4769-8c92-a6c4dae69d19",
    "_uuid": "8f2839f25d086af736a60e9eeb907d3b93b6e0e5",
    "execution": {
     "iopub.execute_input": "2024-11-17T17:09:13.558339Z",
     "iopub.status.busy": "2024-11-17T17:09:13.557927Z",
     "iopub.status.idle": "2024-11-17T17:09:14.768760Z",
     "shell.execute_reply": "2024-11-17T17:09:14.767502Z",
     "shell.execute_reply.started": "2024-11-17T17:09:13.558297Z"
    },
    "trusted": true
   },
   "outputs": [
    {
     "ename": "ModuleNotFoundError",
     "evalue": "No module named 'numpy'",
     "output_type": "error",
     "traceback": [
      "\u001b[1;31m---------------------------------------------------------------------------\u001b[0m",
      "\u001b[1;31mModuleNotFoundError\u001b[0m                       Traceback (most recent call last)",
      "Cell \u001b[1;32mIn[1], line 5\u001b[0m\n\u001b[0;32m      1\u001b[0m \u001b[38;5;66;03m# This Python 3 environment comes with many helpful analytics libraries installed\u001b[39;00m\n\u001b[0;32m      2\u001b[0m \u001b[38;5;66;03m# It is defined by the kaggle/python Docker image: https://github.com/kaggle/docker-python\u001b[39;00m\n\u001b[0;32m      3\u001b[0m \u001b[38;5;66;03m# For example, here's several helpful packages to load\u001b[39;00m\n\u001b[1;32m----> 5\u001b[0m \u001b[38;5;28;01mimport\u001b[39;00m \u001b[38;5;21;01mnumpy\u001b[39;00m \u001b[38;5;28;01mas\u001b[39;00m \u001b[38;5;21;01mnp\u001b[39;00m \u001b[38;5;66;03m# linear algebra\u001b[39;00m\n\u001b[0;32m      6\u001b[0m \u001b[38;5;28;01mimport\u001b[39;00m \u001b[38;5;21;01mpandas\u001b[39;00m \u001b[38;5;28;01mas\u001b[39;00m \u001b[38;5;21;01mpd\u001b[39;00m \u001b[38;5;66;03m# data processing, CSV file I/O (e.g. pd.read_csv)\u001b[39;00m\n\u001b[0;32m      8\u001b[0m \u001b[38;5;66;03m# Input data files are available in the read-only \"../input/\" directory\u001b[39;00m\n\u001b[0;32m      9\u001b[0m \u001b[38;5;66;03m# For example, running this (by clicking run or pressing Shift+Enter) will list all files under the input directory\u001b[39;00m\n\u001b[0;32m     10\u001b[0m \n\u001b[1;32m   (...)\u001b[0m\n\u001b[0;32m     16\u001b[0m \u001b[38;5;66;03m# You can write up to 20GB to the current directory (/kaggle/working/) that gets preserved as output when you create a version using \"Save & Run All\" \u001b[39;00m\n\u001b[0;32m     17\u001b[0m \u001b[38;5;66;03m# You can also write temporary files to /kaggle/temp/, but they won't be saved outside of the current session\u001b[39;00m\n",
      "\u001b[1;31mModuleNotFoundError\u001b[0m: No module named 'numpy'"
     ]
    }
   ],
   "source": [
    "# This Python 3 environment comes with many helpful analytics libraries installed\n",
    "# It is defined by the kaggle/python Docker image: https://github.com/kaggle/docker-python\n",
    "# For example, here's several helpful packages to load\n",
    "\n",
    "import numpy as np # linear algebra\n",
    "import pandas as pd # data processing, CSV file I/O (e.g. pd.read_csv)\n",
    "\n",
    "# Input data files are available in the read-only \"../input/\" directory\n",
    "# For example, running this (by clicking run or pressing Shift+Enter) will list all files under the input directory\n",
    "\n",
    "#import os\n",
    "#for dirname, _, filenames in os.walk('/kaggle/input'):\n",
    "#    for filename in filenames:\n",
    "#        print(os.path.join(dirname, filename))\n",
    "\n",
    "# You can write up to 20GB to the current directory (/kaggle/working/) that gets preserved as output when you create a version using \"Save & Run All\" \n",
    "# You can also write temporary files to /kaggle/temp/, but they won't be saved outside of the current session"
   ]
  },
  {
   "cell_type": "code",
   "execution_count": null,
   "metadata": {
    "execution": {
     "iopub.execute_input": "2024-11-17T17:10:24.470020Z",
     "iopub.status.busy": "2024-11-17T17:10:24.469544Z",
     "iopub.status.idle": "2024-11-17T17:10:25.240239Z",
     "shell.execute_reply": "2024-11-17T17:10:25.239143Z",
     "shell.execute_reply.started": "2024-11-17T17:10:24.469975Z"
    },
    "trusted": true
   },
   "outputs": [],
   "source": [
    "data=pd.read_csv(\"D:\\sentiment_analysis_project\\dataset\\sample_dataset.csv\")"
   ]
  },
  {
   "cell_type": "code",
   "execution_count": 7,
   "metadata": {
    "execution": {
     "iopub.execute_input": "2024-11-17T17:10:35.723476Z",
     "iopub.status.busy": "2024-11-17T17:10:35.722693Z",
     "iopub.status.idle": "2024-11-17T17:10:35.730886Z",
     "shell.execute_reply": "2024-11-17T17:10:35.729588Z",
     "shell.execute_reply.started": "2024-11-17T17:10:35.723424Z"
    },
    "trusted": true
   },
   "outputs": [
    {
     "data": {
      "text/plain": [
       "(50000, 2)"
      ]
     },
     "execution_count": 7,
     "metadata": {},
     "output_type": "execute_result"
    }
   ],
   "source": [
    "data.shape"
   ]
  },
  {
   "cell_type": "code",
   "execution_count": 8,
   "metadata": {
    "execution": {
     "iopub.execute_input": "2024-11-17T17:10:55.646623Z",
     "iopub.status.busy": "2024-11-17T17:10:55.646197Z",
     "iopub.status.idle": "2024-11-17T17:10:55.657362Z",
     "shell.execute_reply": "2024-11-17T17:10:55.656268Z",
     "shell.execute_reply.started": "2024-11-17T17:10:55.646581Z"
    },
    "trusted": true
   },
   "outputs": [
    {
     "data": {
      "text/html": [
       "<div>\n",
       "<style scoped>\n",
       "    .dataframe tbody tr th:only-of-type {\n",
       "        vertical-align: middle;\n",
       "    }\n",
       "\n",
       "    .dataframe tbody tr th {\n",
       "        vertical-align: top;\n",
       "    }\n",
       "\n",
       "    .dataframe thead th {\n",
       "        text-align: right;\n",
       "    }\n",
       "</style>\n",
       "<table border=\"1\" class=\"dataframe\">\n",
       "  <thead>\n",
       "    <tr style=\"text-align: right;\">\n",
       "      <th></th>\n",
       "      <th>review</th>\n",
       "      <th>sentiment</th>\n",
       "    </tr>\n",
       "  </thead>\n",
       "  <tbody>\n",
       "    <tr>\n",
       "      <th>0</th>\n",
       "      <td>One of the other reviewers has mentioned that ...</td>\n",
       "      <td>positive</td>\n",
       "    </tr>\n",
       "    <tr>\n",
       "      <th>1</th>\n",
       "      <td>A wonderful little production. &lt;br /&gt;&lt;br /&gt;The...</td>\n",
       "      <td>positive</td>\n",
       "    </tr>\n",
       "    <tr>\n",
       "      <th>2</th>\n",
       "      <td>I thought this was a wonderful way to spend ti...</td>\n",
       "      <td>positive</td>\n",
       "    </tr>\n",
       "  </tbody>\n",
       "</table>\n",
       "</div>"
      ],
      "text/plain": [
       "                                              review sentiment\n",
       "0  One of the other reviewers has mentioned that ...  positive\n",
       "1  A wonderful little production. <br /><br />The...  positive\n",
       "2  I thought this was a wonderful way to spend ti...  positive"
      ]
     },
     "execution_count": 8,
     "metadata": {},
     "output_type": "execute_result"
    }
   ],
   "source": [
    "data.head(3)"
   ]
  },
  {
   "cell_type": "code",
   "execution_count": 9,
   "metadata": {
    "execution": {
     "iopub.execute_input": "2024-11-17T17:11:11.423485Z",
     "iopub.status.busy": "2024-11-17T17:11:11.423017Z",
     "iopub.status.idle": "2024-11-17T17:11:11.434539Z",
     "shell.execute_reply": "2024-11-17T17:11:11.433364Z",
     "shell.execute_reply.started": "2024-11-17T17:11:11.423431Z"
    },
    "trusted": true
   },
   "outputs": [
    {
     "data": {
      "text/html": [
       "<div>\n",
       "<style scoped>\n",
       "    .dataframe tbody tr th:only-of-type {\n",
       "        vertical-align: middle;\n",
       "    }\n",
       "\n",
       "    .dataframe tbody tr th {\n",
       "        vertical-align: top;\n",
       "    }\n",
       "\n",
       "    .dataframe thead th {\n",
       "        text-align: right;\n",
       "    }\n",
       "</style>\n",
       "<table border=\"1\" class=\"dataframe\">\n",
       "  <thead>\n",
       "    <tr style=\"text-align: right;\">\n",
       "      <th></th>\n",
       "      <th>review</th>\n",
       "      <th>sentiment</th>\n",
       "    </tr>\n",
       "  </thead>\n",
       "  <tbody>\n",
       "    <tr>\n",
       "      <th>49997</th>\n",
       "      <td>I am a Catholic taught in parochial elementary...</td>\n",
       "      <td>negative</td>\n",
       "    </tr>\n",
       "    <tr>\n",
       "      <th>49998</th>\n",
       "      <td>I'm going to have to disagree with the previou...</td>\n",
       "      <td>negative</td>\n",
       "    </tr>\n",
       "    <tr>\n",
       "      <th>49999</th>\n",
       "      <td>No one expects the Star Trek movies to be high...</td>\n",
       "      <td>negative</td>\n",
       "    </tr>\n",
       "  </tbody>\n",
       "</table>\n",
       "</div>"
      ],
      "text/plain": [
       "                                                  review sentiment\n",
       "49997  I am a Catholic taught in parochial elementary...  negative\n",
       "49998  I'm going to have to disagree with the previou...  negative\n",
       "49999  No one expects the Star Trek movies to be high...  negative"
      ]
     },
     "execution_count": 9,
     "metadata": {},
     "output_type": "execute_result"
    }
   ],
   "source": [
    "data.tail(3)"
   ]
  },
  {
   "cell_type": "code",
   "execution_count": 10,
   "metadata": {
    "execution": {
     "iopub.execute_input": "2024-11-17T17:11:33.737035Z",
     "iopub.status.busy": "2024-11-17T17:11:33.736270Z",
     "iopub.status.idle": "2024-11-17T17:11:33.870752Z",
     "shell.execute_reply": "2024-11-17T17:11:33.869635Z",
     "shell.execute_reply.started": "2024-11-17T17:11:33.736989Z"
    },
    "trusted": true
   },
   "outputs": [
    {
     "data": {
      "text/html": [
       "<div>\n",
       "<style scoped>\n",
       "    .dataframe tbody tr th:only-of-type {\n",
       "        vertical-align: middle;\n",
       "    }\n",
       "\n",
       "    .dataframe tbody tr th {\n",
       "        vertical-align: top;\n",
       "    }\n",
       "\n",
       "    .dataframe thead th {\n",
       "        text-align: right;\n",
       "    }\n",
       "</style>\n",
       "<table border=\"1\" class=\"dataframe\">\n",
       "  <thead>\n",
       "    <tr style=\"text-align: right;\">\n",
       "      <th></th>\n",
       "      <th>review</th>\n",
       "      <th>sentiment</th>\n",
       "    </tr>\n",
       "  </thead>\n",
       "  <tbody>\n",
       "    <tr>\n",
       "      <th>count</th>\n",
       "      <td>50000</td>\n",
       "      <td>50000</td>\n",
       "    </tr>\n",
       "    <tr>\n",
       "      <th>unique</th>\n",
       "      <td>49582</td>\n",
       "      <td>2</td>\n",
       "    </tr>\n",
       "    <tr>\n",
       "      <th>top</th>\n",
       "      <td>Loved today's show!!! It was a variety and not...</td>\n",
       "      <td>positive</td>\n",
       "    </tr>\n",
       "    <tr>\n",
       "      <th>freq</th>\n",
       "      <td>5</td>\n",
       "      <td>25000</td>\n",
       "    </tr>\n",
       "  </tbody>\n",
       "</table>\n",
       "</div>"
      ],
      "text/plain": [
       "                                                   review sentiment\n",
       "count                                               50000     50000\n",
       "unique                                              49582         2\n",
       "top     Loved today's show!!! It was a variety and not...  positive\n",
       "freq                                                    5     25000"
      ]
     },
     "execution_count": 10,
     "metadata": {},
     "output_type": "execute_result"
    }
   ],
   "source": [
    "data.describe()"
   ]
  },
  {
   "cell_type": "code",
   "execution_count": 11,
   "metadata": {
    "execution": {
     "iopub.execute_input": "2024-11-17T17:11:44.805513Z",
     "iopub.status.busy": "2024-11-17T17:11:44.805071Z",
     "iopub.status.idle": "2024-11-17T17:11:44.839258Z",
     "shell.execute_reply": "2024-11-17T17:11:44.837967Z",
     "shell.execute_reply.started": "2024-11-17T17:11:44.805469Z"
    },
    "trusted": true
   },
   "outputs": [
    {
     "name": "stdout",
     "output_type": "stream",
     "text": [
      "<class 'pandas.core.frame.DataFrame'>\n",
      "RangeIndex: 50000 entries, 0 to 49999\n",
      "Data columns (total 2 columns):\n",
      " #   Column     Non-Null Count  Dtype \n",
      "---  ------     --------------  ----- \n",
      " 0   review     50000 non-null  object\n",
      " 1   sentiment  50000 non-null  object\n",
      "dtypes: object(2)\n",
      "memory usage: 781.4+ KB\n"
     ]
    }
   ],
   "source": [
    "data.info()"
   ]
  },
  {
   "cell_type": "code",
   "execution_count": 12,
   "metadata": {
    "execution": {
     "iopub.execute_input": "2024-11-17T17:12:07.101489Z",
     "iopub.status.busy": "2024-11-17T17:12:07.100864Z",
     "iopub.status.idle": "2024-11-17T17:12:07.125763Z",
     "shell.execute_reply": "2024-11-17T17:12:07.124629Z",
     "shell.execute_reply.started": "2024-11-17T17:12:07.101441Z"
    },
    "trusted": true
   },
   "outputs": [
    {
     "data": {
      "text/plain": [
       "review       False\n",
       "sentiment    False\n",
       "dtype: bool"
      ]
     },
     "execution_count": 12,
     "metadata": {},
     "output_type": "execute_result"
    }
   ],
   "source": [
    "data.isnull().any()"
   ]
  },
  {
   "cell_type": "code",
   "execution_count": 13,
   "metadata": {
    "execution": {
     "iopub.execute_input": "2024-11-17T17:12:28.402563Z",
     "iopub.status.busy": "2024-11-17T17:12:28.402135Z",
     "iopub.status.idle": "2024-11-17T17:12:28.426654Z",
     "shell.execute_reply": "2024-11-17T17:12:28.425406Z",
     "shell.execute_reply.started": "2024-11-17T17:12:28.402523Z"
    },
    "trusted": true
   },
   "outputs": [
    {
     "data": {
      "text/plain": [
       "review       0\n",
       "sentiment    0\n",
       "dtype: int64"
      ]
     },
     "execution_count": 13,
     "metadata": {},
     "output_type": "execute_result"
    }
   ],
   "source": [
    "data.isnull().sum()"
   ]
  },
  {
   "cell_type": "markdown",
   "metadata": {},
   "source": [
    "# Text normalization"
   ]
  },
  {
   "cell_type": "markdown",
   "metadata": {},
   "source": []
  },
  {
   "cell_type": "markdown",
   "metadata": {},
   "source": [
    "## tockenization"
   ]
  },
  {
   "cell_type": "code",
   "execution_count": 14,
   "metadata": {
    "execution": {
     "iopub.execute_input": "2024-11-17T17:30:06.448914Z",
     "iopub.status.busy": "2024-11-17T17:30:06.448446Z",
     "iopub.status.idle": "2024-11-17T17:30:12.453307Z",
     "shell.execute_reply": "2024-11-17T17:30:12.452132Z",
     "shell.execute_reply.started": "2024-11-17T17:30:06.448872Z"
    },
    "trusted": true
   },
   "outputs": [],
   "source": [
    "import seaborn as sns\n",
    "import matplotlib.pyplot as plt\n",
    "import nltk\n",
    "from sklearn.feature_extraction.text import CountVectorizer\n",
    "from sklearn.feature_extraction.text import TfidfVectorizer\n",
    "from sklearn.preprocessing import LabelBinarizer\n",
    "from nltk.corpus import stopwords\n",
    "from nltk.stem.porter import PorterStemmer\n",
    "from wordcloud import WordCloud, STOPWORDS\n",
    "from nltk.stem import WordNetLemmatizer\n",
    "from nltk.tokenize import word_tokenize, sent_tokenize\n",
    "\n",
    "import spacy\n",
    "import re\n",
    "import string\n",
    "import unicodedata\n",
    "from nltk.tokenize.toktok import ToktokTokenizer\n",
    "from nltk.stem import LancasterStemmer\n",
    "from sklearn.linear_model import LogisticRegression, SGDClassifier\n",
    "from sklearn.naive_bayes import MultinomialNB\n",
    "from sklearn.svm import SVC\n",
    "from textblob import TextBlob, Word\n",
    "from sklearn.metrics import classification_report, confusion_matrix, accuracy_score\n"
   ]
  },
  {
   "cell_type": "code",
   "execution_count": 15,
   "metadata": {
    "execution": {
     "iopub.execute_input": "2024-11-17T17:32:31.073611Z",
     "iopub.status.busy": "2024-11-17T17:32:31.073113Z",
     "iopub.status.idle": "2024-11-17T17:32:31.168931Z",
     "shell.execute_reply": "2024-11-17T17:32:31.167672Z",
     "shell.execute_reply.started": "2024-11-17T17:32:31.073560Z"
    },
    "trusted": true
   },
   "outputs": [
    {
     "name": "stdout",
     "output_type": "stream",
     "text": [
      "[nltk_data] Downloading package stopwords to /usr/share/nltk_data...\n",
      "[nltk_data]   Package stopwords is already up-to-date!\n"
     ]
    },
    {
     "data": {
      "text/plain": [
       "True"
      ]
     },
     "execution_count": 15,
     "metadata": {},
     "output_type": "execute_result"
    }
   ],
   "source": [
    "import nltk\n",
    "nltk.download('stopwords')"
   ]
  },
  {
   "cell_type": "code",
   "execution_count": 17,
   "metadata": {
    "execution": {
     "iopub.execute_input": "2024-11-17T17:35:13.616519Z",
     "iopub.status.busy": "2024-11-17T17:35:13.616058Z",
     "iopub.status.idle": "2024-11-17T17:35:13.622999Z",
     "shell.execute_reply": "2024-11-17T17:35:13.621621Z",
     "shell.execute_reply.started": "2024-11-17T17:35:13.616475Z"
    },
    "trusted": true
   },
   "outputs": [],
   "source": [
    "#tokenization of text \n",
    "tokenizers=ToktokTokenizer()\n",
    "#setting English stopwords\n",
    "stopwords=nltk.corpus.stopwords.words('english')"
   ]
  },
  {
   "cell_type": "code",
   "execution_count": 21,
   "metadata": {
    "execution": {
     "iopub.execute_input": "2024-11-17T17:41:56.547764Z",
     "iopub.status.busy": "2024-11-17T17:41:56.547342Z",
     "iopub.status.idle": "2024-11-17T17:41:56.763425Z",
     "shell.execute_reply": "2024-11-17T17:41:56.762015Z",
     "shell.execute_reply.started": "2024-11-17T17:41:56.547725Z"
    },
    "trusted": true
   },
   "outputs": [],
   "source": [
    "from bs4 import BeautifulSoup\n",
    "import re\n",
    "\n",
    "# Removing noisy text\n",
    "def noiseremoval_text(text):\n",
    "    # Parse the text using BeautifulSoup to remove HTML tags\n",
    "    soup = BeautifulSoup(text, \"html.parser\")\n",
    "    text = soup.get_text()\n",
    "    \n",
    "    # Remove text within square brackets (e.g., [example])\n",
    "    text = re.sub(r'\\[[^]]*\\]', '', text)\n",
    "    \n",
    "    # Additional cleaning (optional, based on your use case)\n",
    "    text = re.sub(r'\\s+', ' ', text).strip()  # Remove extra whitespace\n",
    "    return text\n"
   ]
  },
  {
   "cell_type": "code",
   "execution_count": 22,
   "metadata": {
    "execution": {
     "iopub.execute_input": "2024-11-17T17:43:19.047259Z",
     "iopub.status.busy": "2024-11-17T17:43:19.046242Z",
     "iopub.status.idle": "2024-11-17T17:43:37.211371Z",
     "shell.execute_reply": "2024-11-17T17:43:37.210100Z",
     "shell.execute_reply.started": "2024-11-17T17:43:19.047200Z"
    },
    "trusted": true
   },
   "outputs": [
    {
     "name": "stderr",
     "output_type": "stream",
     "text": [
      "/tmp/ipykernel_30/46840122.py:7: MarkupResemblesLocatorWarning: The input looks more like a filename than markup. You may want to open this file and pass the filehandle into Beautiful Soup.\n",
      "  soup = BeautifulSoup(text, \"html.parser\")\n"
     ]
    }
   ],
   "source": [
    "# Apply the `noiseremoval_text` function to the 'review' column\n",
    "data['review'] = data['review'].apply(noiseremoval_text)\n"
   ]
  },
  {
   "cell_type": "code",
   "execution_count": 23,
   "metadata": {
    "execution": {
     "iopub.execute_input": "2024-11-17T17:44:21.732470Z",
     "iopub.status.busy": "2024-11-17T17:44:21.731991Z",
     "iopub.status.idle": "2024-11-17T17:44:21.743909Z",
     "shell.execute_reply": "2024-11-17T17:44:21.742806Z",
     "shell.execute_reply.started": "2024-11-17T17:44:21.732423Z"
    },
    "trusted": true
   },
   "outputs": [
    {
     "data": {
      "text/html": [
       "<div>\n",
       "<style scoped>\n",
       "    .dataframe tbody tr th:only-of-type {\n",
       "        vertical-align: middle;\n",
       "    }\n",
       "\n",
       "    .dataframe tbody tr th {\n",
       "        vertical-align: top;\n",
       "    }\n",
       "\n",
       "    .dataframe thead th {\n",
       "        text-align: right;\n",
       "    }\n",
       "</style>\n",
       "<table border=\"1\" class=\"dataframe\">\n",
       "  <thead>\n",
       "    <tr style=\"text-align: right;\">\n",
       "      <th></th>\n",
       "      <th>review</th>\n",
       "      <th>sentiment</th>\n",
       "    </tr>\n",
       "  </thead>\n",
       "  <tbody>\n",
       "    <tr>\n",
       "      <th>0</th>\n",
       "      <td>One of the other reviewers has mentioned that ...</td>\n",
       "      <td>positive</td>\n",
       "    </tr>\n",
       "    <tr>\n",
       "      <th>1</th>\n",
       "      <td>A wonderful little production. The filming tec...</td>\n",
       "      <td>positive</td>\n",
       "    </tr>\n",
       "    <tr>\n",
       "      <th>2</th>\n",
       "      <td>I thought this was a wonderful way to spend ti...</td>\n",
       "      <td>positive</td>\n",
       "    </tr>\n",
       "    <tr>\n",
       "      <th>3</th>\n",
       "      <td>Basically there's a family where a little boy ...</td>\n",
       "      <td>negative</td>\n",
       "    </tr>\n",
       "    <tr>\n",
       "      <th>4</th>\n",
       "      <td>Petter Mattei's \"Love in the Time of Money\" is...</td>\n",
       "      <td>positive</td>\n",
       "    </tr>\n",
       "  </tbody>\n",
       "</table>\n",
       "</div>"
      ],
      "text/plain": [
       "                                              review sentiment\n",
       "0  One of the other reviewers has mentioned that ...  positive\n",
       "1  A wonderful little production. The filming tec...  positive\n",
       "2  I thought this was a wonderful way to spend ti...  positive\n",
       "3  Basically there's a family where a little boy ...  negative\n",
       "4  Petter Mattei's \"Love in the Time of Money\" is...  positive"
      ]
     },
     "execution_count": 23,
     "metadata": {},
     "output_type": "execute_result"
    }
   ],
   "source": [
    "data.head()"
   ]
  },
  {
   "cell_type": "markdown",
   "metadata": {},
   "source": [
    "# Stemming "
   ]
  },
  {
   "cell_type": "code",
   "execution_count": 28,
   "metadata": {
    "execution": {
     "iopub.execute_input": "2024-11-17T17:54:11.442863Z",
     "iopub.status.busy": "2024-11-17T17:54:11.442410Z",
     "iopub.status.idle": "2024-11-17T18:00:12.611397Z",
     "shell.execute_reply": "2024-11-17T18:00:12.610079Z",
     "shell.execute_reply.started": "2024-11-17T17:54:11.442810Z"
    },
    "trusted": true
   },
   "outputs": [],
   "source": [
    "# Define stemming function\n",
    "def stemmer(text):\n",
    "    ps = PorterStemmer()\n",
    "    text = ' '.join([ps.stem(word) for word in text.split()])\n",
    "    return text\n",
    "\n",
    "    \n",
    "# Apply the stemming function to the 'review' column\n",
    "data['review'] = data['review'].apply(stemmer)"
   ]
  },
  {
   "cell_type": "code",
   "execution_count": 29,
   "metadata": {
    "execution": {
     "iopub.execute_input": "2024-11-17T18:01:52.063301Z",
     "iopub.status.busy": "2024-11-17T18:01:52.062813Z",
     "iopub.status.idle": "2024-11-17T18:01:52.075058Z",
     "shell.execute_reply": "2024-11-17T18:01:52.073780Z",
     "shell.execute_reply.started": "2024-11-17T18:01:52.063259Z"
    },
    "trusted": true
   },
   "outputs": [
    {
     "data": {
      "text/html": [
       "<div>\n",
       "<style scoped>\n",
       "    .dataframe tbody tr th:only-of-type {\n",
       "        vertical-align: middle;\n",
       "    }\n",
       "\n",
       "    .dataframe tbody tr th {\n",
       "        vertical-align: top;\n",
       "    }\n",
       "\n",
       "    .dataframe thead th {\n",
       "        text-align: right;\n",
       "    }\n",
       "</style>\n",
       "<table border=\"1\" class=\"dataframe\">\n",
       "  <thead>\n",
       "    <tr style=\"text-align: right;\">\n",
       "      <th></th>\n",
       "      <th>review</th>\n",
       "      <th>sentiment</th>\n",
       "    </tr>\n",
       "  </thead>\n",
       "  <tbody>\n",
       "    <tr>\n",
       "      <th>0</th>\n",
       "      <td>one of the other review ha mention that after ...</td>\n",
       "      <td>positive</td>\n",
       "    </tr>\n",
       "    <tr>\n",
       "      <th>1</th>\n",
       "      <td>A wonder littl production. the film techniqu i...</td>\n",
       "      <td>positive</td>\n",
       "    </tr>\n",
       "    <tr>\n",
       "      <th>2</th>\n",
       "      <td>I thought thi wa a wonder way to spend time on...</td>\n",
       "      <td>positive</td>\n",
       "    </tr>\n",
       "    <tr>\n",
       "      <th>3</th>\n",
       "      <td>basic there' a famili where a littl boy (jake)...</td>\n",
       "      <td>negative</td>\n",
       "    </tr>\n",
       "    <tr>\n",
       "      <th>4</th>\n",
       "      <td>petter mattei' \"love in the time of money\" is ...</td>\n",
       "      <td>positive</td>\n",
       "    </tr>\n",
       "  </tbody>\n",
       "</table>\n",
       "</div>"
      ],
      "text/plain": [
       "                                              review sentiment\n",
       "0  one of the other review ha mention that after ...  positive\n",
       "1  A wonder littl production. the film techniqu i...  positive\n",
       "2  I thought thi wa a wonder way to spend time on...  positive\n",
       "3  basic there' a famili where a littl boy (jake)...  negative\n",
       "4  petter mattei' \"love in the time of money\" is ...  positive"
      ]
     },
     "execution_count": 29,
     "metadata": {},
     "output_type": "execute_result"
    }
   ],
   "source": [
    "data.head()"
   ]
  },
  {
   "cell_type": "code",
   "execution_count": 38,
   "metadata": {
    "execution": {
     "iopub.execute_input": "2024-11-17T18:09:39.996091Z",
     "iopub.status.busy": "2024-11-17T18:09:39.995576Z",
     "iopub.status.idle": "2024-11-17T18:09:40.004781Z",
     "shell.execute_reply": "2024-11-17T18:09:40.003576Z",
     "shell.execute_reply.started": "2024-11-17T18:09:39.996041Z"
    },
    "trusted": true
   },
   "outputs": [],
   "source": [
    "from nltk.corpus import stopwords\n",
    "from nltk.tokenize.toktok import ToktokTokenizer\n",
    "\n",
    "# Define function to remove stopwords\n",
    "def removing_stopwords(text, is_lower_case=False):\n",
    "    # Initialize the tokenizer\n",
    "    tokenizer = ToktokTokenizer()\n",
    "    \n",
    "    # Load English stopwords\n",
    "    stop_wr = set(stopwords.words('english'))\n",
    "    \n",
    "    # Tokenize the text\n",
    "    tokens = tokenizer.tokenize(text)\n",
    "    tokens = [i.strip() for i in tokens]\n",
    "    \n",
    "    # Filter tokens based on stopwords\n",
    "    if is_lower_case:\n",
    "        filtered_tokens = [i for i in tokens if i not in stop_wr]\n",
    "    else:\n",
    "        filtered_tokens = [i for i in tokens if i.lower() not in stop_wr]\n",
    "    \n",
    "    # Join the filtered tokens back into a single string\n",
    "    filtered_text = ' '.join(filtered_tokens)\n",
    "    return filtered_text\n"
   ]
  },
  {
   "cell_type": "code",
   "execution_count": 39,
   "metadata": {
    "execution": {
     "iopub.execute_input": "2024-11-17T18:09:44.630302Z",
     "iopub.status.busy": "2024-11-17T18:09:44.628883Z",
     "iopub.status.idle": "2024-11-17T18:10:39.300836Z",
     "shell.execute_reply": "2024-11-17T18:10:39.299552Z",
     "shell.execute_reply.started": "2024-11-17T18:09:44.630252Z"
    },
    "trusted": true
   },
   "outputs": [],
   "source": [
    "#Apply function on review column\n",
    "# Apply the stemming function to the 'review' column\n",
    "data['review'] = data['review'].apply(removing_stopwords)"
   ]
  },
  {
   "cell_type": "code",
   "execution_count": 40,
   "metadata": {
    "execution": {
     "iopub.execute_input": "2024-11-17T18:10:54.525533Z",
     "iopub.status.busy": "2024-11-17T18:10:54.524530Z",
     "iopub.status.idle": "2024-11-17T18:10:54.536521Z",
     "shell.execute_reply": "2024-11-17T18:10:54.535247Z",
     "shell.execute_reply.started": "2024-11-17T18:10:54.525484Z"
    },
    "trusted": true
   },
   "outputs": [
    {
     "data": {
      "text/html": [
       "<div>\n",
       "<style scoped>\n",
       "    .dataframe tbody tr th:only-of-type {\n",
       "        vertical-align: middle;\n",
       "    }\n",
       "\n",
       "    .dataframe tbody tr th {\n",
       "        vertical-align: top;\n",
       "    }\n",
       "\n",
       "    .dataframe thead th {\n",
       "        text-align: right;\n",
       "    }\n",
       "</style>\n",
       "<table border=\"1\" class=\"dataframe\">\n",
       "  <thead>\n",
       "    <tr style=\"text-align: right;\">\n",
       "      <th></th>\n",
       "      <th>review</th>\n",
       "      <th>sentiment</th>\n",
       "    </tr>\n",
       "  </thead>\n",
       "  <tbody>\n",
       "    <tr>\n",
       "      <th>0</th>\n",
       "      <td>one review ha mention watch 1 Oz episod ' hook...</td>\n",
       "      <td>positive</td>\n",
       "    </tr>\n",
       "    <tr>\n",
       "      <th>1</th>\n",
       "      <td>wonder littl production. film techniqu veri un...</td>\n",
       "      <td>positive</td>\n",
       "    </tr>\n",
       "    <tr>\n",
       "      <th>2</th>\n",
       "      <td>thought thi wa wonder way spend time hot summe...</td>\n",
       "      <td>positive</td>\n",
       "    </tr>\n",
       "    <tr>\n",
       "      <th>3</th>\n",
       "      <td>basic ' famili littl boy ( jake ) think ' zomb...</td>\n",
       "      <td>negative</td>\n",
       "    </tr>\n",
       "    <tr>\n",
       "      <th>4</th>\n",
       "      <td>petter mattei ' \" love time money \" visual stu...</td>\n",
       "      <td>positive</td>\n",
       "    </tr>\n",
       "  </tbody>\n",
       "</table>\n",
       "</div>"
      ],
      "text/plain": [
       "                                              review sentiment\n",
       "0  one review ha mention watch 1 Oz episod ' hook...  positive\n",
       "1  wonder littl production. film techniqu veri un...  positive\n",
       "2  thought thi wa wonder way spend time hot summe...  positive\n",
       "3  basic ' famili littl boy ( jake ) think ' zomb...  negative\n",
       "4  petter mattei ' \" love time money \" visual stu...  positive"
      ]
     },
     "execution_count": 40,
     "metadata": {},
     "output_type": "execute_result"
    }
   ],
   "source": [
    "data.head()"
   ]
  },
  {
   "cell_type": "markdown",
   "metadata": {},
   "source": [
    "# Train test split"
   ]
  },
  {
   "cell_type": "code",
   "execution_count": 42,
   "metadata": {
    "execution": {
     "iopub.execute_input": "2024-11-17T18:13:24.828971Z",
     "iopub.status.busy": "2024-11-17T18:13:24.828512Z",
     "iopub.status.idle": "2024-11-17T18:13:24.834290Z",
     "shell.execute_reply": "2024-11-17T18:13:24.833094Z",
     "shell.execute_reply.started": "2024-11-17T18:13:24.828928Z"
    },
    "trusted": true
   },
   "outputs": [],
   "source": [
    "#split the dataset\n",
    "#train dataset\n",
    "train_reviews_data=data.review[:30000]"
   ]
  },
  {
   "cell_type": "code",
   "execution_count": 44,
   "metadata": {
    "execution": {
     "iopub.execute_input": "2024-11-17T18:14:06.260861Z",
     "iopub.status.busy": "2024-11-17T18:14:06.260377Z",
     "iopub.status.idle": "2024-11-17T18:14:06.268259Z",
     "shell.execute_reply": "2024-11-17T18:14:06.267164Z",
     "shell.execute_reply.started": "2024-11-17T18:14:06.260804Z"
    },
    "trusted": true
   },
   "outputs": [
    {
     "data": {
      "text/plain": [
       "(30000,)"
      ]
     },
     "execution_count": 44,
     "metadata": {},
     "output_type": "execute_result"
    }
   ],
   "source": [
    "train_reviews_data.shape"
   ]
  },
  {
   "cell_type": "code",
   "execution_count": 43,
   "metadata": {
    "execution": {
     "iopub.execute_input": "2024-11-17T18:13:28.207369Z",
     "iopub.status.busy": "2024-11-17T18:13:28.206405Z",
     "iopub.status.idle": "2024-11-17T18:13:28.212079Z",
     "shell.execute_reply": "2024-11-17T18:13:28.211051Z",
     "shell.execute_reply.started": "2024-11-17T18:13:28.207317Z"
    },
    "trusted": true
   },
   "outputs": [],
   "source": [
    "#test dataset\n",
    "test_reviews_data=data.review[30000:]"
   ]
  },
  {
   "cell_type": "code",
   "execution_count": 46,
   "metadata": {
    "execution": {
     "iopub.execute_input": "2024-11-17T18:14:32.004042Z",
     "iopub.status.busy": "2024-11-17T18:14:32.003438Z",
     "iopub.status.idle": "2024-11-17T18:14:32.012098Z",
     "shell.execute_reply": "2024-11-17T18:14:32.010911Z",
     "shell.execute_reply.started": "2024-11-17T18:14:32.003990Z"
    },
    "trusted": true
   },
   "outputs": [
    {
     "data": {
      "text/plain": [
       "(20000,)"
      ]
     },
     "execution_count": 46,
     "metadata": {},
     "output_type": "execute_result"
    }
   ],
   "source": [
    "test_reviews_data.shape"
   ]
  },
  {
   "cell_type": "code",
   "execution_count": null,
   "metadata": {},
   "outputs": [],
   "source": []
  },
  {
   "cell_type": "markdown",
   "metadata": {},
   "source": [
    "# Bag of words"
   ]
  },
  {
   "cell_type": "code",
   "execution_count": 47,
   "metadata": {
    "execution": {
     "iopub.execute_input": "2024-11-17T18:20:54.252011Z",
     "iopub.status.busy": "2024-11-17T18:20:54.250606Z",
     "iopub.status.idle": "2024-11-17T18:21:53.118133Z",
     "shell.execute_reply": "2024-11-17T18:21:53.116881Z",
     "shell.execute_reply.started": "2024-11-17T18:20:54.251957Z"
    },
    "trusted": true
   },
   "outputs": [
    {
     "name": "stdout",
     "output_type": "stream",
     "text": [
      "BOW_cv_train: (30000, 4954557)\n",
      "BOW_cv_test: (20000, 4954557)\n"
     ]
    }
   ],
   "source": [
    "# Count vectorizer for bag of words\n",
    "cv=CountVectorizer(min_df=0,max_df=1,binary=False, ngram_range=(1,3))\n",
    "#transformed train reviews\n",
    "cv_train=cv.fit_transform(train_reviews_data)\n",
    "# transform test reviews\n",
    "cv_test=cv.transform(test_reviews_data)\n",
    "\n",
    "print('BOW_cv_train:',cv_train.shape)\n",
    "print('BOW_cv_test:',cv_test.shape)\n",
    "#vocab=get_feature_name()-toget feature names"
   ]
  },
  {
   "cell_type": "markdown",
   "metadata": {},
   "source": [
    "# TF_IDF"
   ]
  },
  {
   "cell_type": "code",
   "execution_count": 48,
   "metadata": {
    "execution": {
     "iopub.execute_input": "2024-11-17T18:24:45.092647Z",
     "iopub.status.busy": "2024-11-17T18:24:45.092168Z",
     "iopub.status.idle": "2024-11-17T18:25:44.723969Z",
     "shell.execute_reply": "2024-11-17T18:25:44.722853Z",
     "shell.execute_reply.started": "2024-11-17T18:24:45.092601Z"
    },
    "trusted": true
   },
   "outputs": [
    {
     "name": "stdout",
     "output_type": "stream",
     "text": [
      "Tfidf_train: (30000, 4954557)\n",
      "Tfidf_test: (20000, 4954557)\n"
     ]
    }
   ],
   "source": [
    "# Count vectorizer for bag of words\n",
    "tf=TfidfVectorizer(min_df=0,max_df=1,use_idf=True, ngram_range=(1,3))\n",
    "#transformed train reviews\n",
    "tf_train=cv.fit_transform(train_reviews_data)\n",
    "# transform test reviews\n",
    "tf_test=cv.transform(test_reviews_data)\n",
    "\n",
    "print('Tfidf_train:',tf_train.shape)\n",
    "print('Tfidf_test:',tf_test.shape)\n",
    "#vocab=get_feature_name()-toget fea"
   ]
  },
  {
   "cell_type": "markdown",
   "metadata": {},
   "source": [
    "# Label encoding "
   ]
  },
  {
   "cell_type": "code",
   "execution_count": 51,
   "metadata": {
    "execution": {
     "iopub.execute_input": "2024-11-17T18:28:24.497753Z",
     "iopub.status.busy": "2024-11-17T18:28:24.497282Z",
     "iopub.status.idle": "2024-11-17T18:28:24.772598Z",
     "shell.execute_reply": "2024-11-17T18:28:24.771394Z",
     "shell.execute_reply.started": "2024-11-17T18:28:24.497708Z"
    },
    "trusted": true
   },
   "outputs": [
    {
     "name": "stdout",
     "output_type": "stream",
     "text": [
      "(50000, 1)\n"
     ]
    }
   ],
   "source": [
    "#labeling the sentient data\n",
    "label=LabelBinarizer()\n",
    "#tronsformed sentiment data\n",
    "sentiment_data=label.fit_transform(data['sentiment'])\n",
    "print(sentiment_data.shape)"
   ]
  },
  {
   "cell_type": "code",
   "execution_count": 52,
   "metadata": {
    "execution": {
     "iopub.execute_input": "2024-11-17T18:30:31.201612Z",
     "iopub.status.busy": "2024-11-17T18:30:31.201161Z",
     "iopub.status.idle": "2024-11-17T18:30:31.209548Z",
     "shell.execute_reply": "2024-11-17T18:30:31.208293Z",
     "shell.execute_reply.started": "2024-11-17T18:30:31.201569Z"
    },
    "trusted": true
   },
   "outputs": [
    {
     "data": {
      "text/plain": [
       "array([[1],\n",
       "       [1],\n",
       "       [1],\n",
       "       ...,\n",
       "       [0],\n",
       "       [0],\n",
       "       [0]])"
      ]
     },
     "execution_count": 52,
     "metadata": {},
     "output_type": "execute_result"
    }
   ],
   "source": [
    "sentiment_data"
   ]
  },
  {
   "cell_type": "code",
   "execution_count": 60,
   "metadata": {
    "execution": {
     "iopub.execute_input": "2024-11-17T18:37:11.130258Z",
     "iopub.status.busy": "2024-11-17T18:37:11.129764Z",
     "iopub.status.idle": "2024-11-17T18:37:11.135509Z",
     "shell.execute_reply": "2024-11-17T18:37:11.134457Z",
     "shell.execute_reply.started": "2024-11-17T18:37:11.130212Z"
    },
    "trusted": true
   },
   "outputs": [],
   "source": [
    "train_data=data.sentiment[:30000]"
   ]
  },
  {
   "cell_type": "code",
   "execution_count": 61,
   "metadata": {
    "execution": {
     "iopub.execute_input": "2024-11-17T18:37:14.426824Z",
     "iopub.status.busy": "2024-11-17T18:37:14.426394Z",
     "iopub.status.idle": "2024-11-17T18:37:14.432144Z",
     "shell.execute_reply": "2024-11-17T18:37:14.430992Z",
     "shell.execute_reply.started": "2024-11-17T18:37:14.426766Z"
    },
    "trusted": true
   },
   "outputs": [],
   "source": [
    "test_data=data.sentiment[30000:]"
   ]
  },
  {
   "cell_type": "code",
   "execution_count": 65,
   "metadata": {
    "execution": {
     "iopub.execute_input": "2024-11-17T18:38:28.575694Z",
     "iopub.status.busy": "2024-11-17T18:38:28.575242Z",
     "iopub.status.idle": "2024-11-17T18:39:21.307428Z",
     "shell.execute_reply": "2024-11-17T18:39:21.306321Z",
     "shell.execute_reply.started": "2024-11-17T18:38:28.575651Z"
    },
    "trusted": true
   },
   "outputs": [
    {
     "name": "stdout",
     "output_type": "stream",
     "text": [
      "LogisticRegression(C=1, max_iter=500, random_state=42)\n"
     ]
    }
   ],
   "source": [
    "# Define the Logistic Regression model\n",
    "logistic = LogisticRegression(penalty='l2', max_iter=500, C=1, random_state=42)\n",
    "\n",
    "# Fit the model using Bag of Words (BoW) features\n",
    "lr_bow = logistic.fit(cv_train, train_data)  # Ensure `train_labels` is correctly defined\n",
    "print(lr_bow)"
   ]
  },
  {
   "cell_type": "code",
   "execution_count": 67,
   "metadata": {
    "execution": {
     "iopub.execute_input": "2024-11-17T18:40:54.839977Z",
     "iopub.status.busy": "2024-11-17T18:40:54.839501Z",
     "iopub.status.idle": "2024-11-17T18:40:54.853426Z",
     "shell.execute_reply": "2024-11-17T18:40:54.851945Z",
     "shell.execute_reply.started": "2024-11-17T18:40:54.839931Z"
    },
    "trusted": true
   },
   "outputs": [
    {
     "name": "stdout",
     "output_type": "stream",
     "text": [
      "['negative' 'negative' 'negative' ... 'negative' 'negative' 'negative']\n"
     ]
    }
   ],
   "source": [
    "#predicating the model for bag of words\n",
    "lr_bow_predict=logistic.predict(cv_test)\n",
    "print(lr_bow_predict)"
   ]
  },
  {
   "cell_type": "code",
   "execution_count": 75,
   "metadata": {
    "execution": {
     "iopub.execute_input": "2024-11-17T18:49:47.231888Z",
     "iopub.status.busy": "2024-11-17T18:49:47.231449Z",
     "iopub.status.idle": "2024-11-17T18:49:47.274975Z",
     "shell.execute_reply": "2024-11-17T18:49:47.273353Z",
     "shell.execute_reply.started": "2024-11-17T18:49:47.231847Z"
    },
    "trusted": true
   },
   "outputs": [
    {
     "ename": "NameError",
     "evalue": "name 'bow_predict' is not defined",
     "output_type": "error",
     "traceback": [
      "\u001b[0;31m---------------------------------------------------------------------------\u001b[0m",
      "\u001b[0;31mNameError\u001b[0m                                 Traceback (most recent call last)",
      "Cell \u001b[0;32mIn[75], line 2\u001b[0m\n\u001b[1;32m      1\u001b[0m \u001b[38;5;66;03m#Accuracy score for bag of words\u001b[39;00m\n\u001b[0;32m----> 2\u001b[0m bow_score\u001b[38;5;241m=\u001b[39maccuracy_score(test_data,\u001b[43mbow_predict\u001b[49m)\n\u001b[1;32m      3\u001b[0m \u001b[38;5;28mprint\u001b[39m(\u001b[38;5;124m\"\u001b[39m\u001b[38;5;124mbow_score:\u001b[39m\u001b[38;5;124m\"\u001b[39m,lr_bow_score)\n",
      "\u001b[0;31mNameError\u001b[0m: name 'bow_predict' is not defined"
     ]
    }
   ],
   "source": [
    "#Accuracy score for bag of words\n",
    "bow_score=accuracy_score(test_data,bow_)\n",
    "print(\"bow_score:\",lr_bow_score)"
   ]
  },
  {
   "cell_type": "code",
   "execution_count": 68,
   "metadata": {
    "execution": {
     "iopub.execute_input": "2024-11-17T18:43:31.245697Z",
     "iopub.status.busy": "2024-11-17T18:43:31.245275Z",
     "iopub.status.idle": "2024-11-17T18:44:23.546515Z",
     "shell.execute_reply": "2024-11-17T18:44:23.545369Z",
     "shell.execute_reply.started": "2024-11-17T18:43:31.245655Z"
    },
    "trusted": true
   },
   "outputs": [
    {
     "name": "stdout",
     "output_type": "stream",
     "text": [
      "LogisticRegression(C=1, max_iter=500, random_state=42)\n"
     ]
    }
   ],
   "source": [
    "#Fitting the model for tfidf features\n",
    "lr_tfidf=logistic.fit(tf_train,train_data)\n",
    "print(lr_tfidf)"
   ]
  },
  {
   "cell_type": "code",
   "execution_count": 71,
   "metadata": {
    "execution": {
     "iopub.execute_input": "2024-11-17T18:45:30.882867Z",
     "iopub.status.busy": "2024-11-17T18:45:30.882434Z",
     "iopub.status.idle": "2024-11-17T18:45:30.895253Z",
     "shell.execute_reply": "2024-11-17T18:45:30.893752Z",
     "shell.execute_reply.started": "2024-11-17T18:45:30.882824Z"
    },
    "trusted": true
   },
   "outputs": [
    {
     "name": "stdout",
     "output_type": "stream",
     "text": [
      "['negative' 'negative' 'negative' ... 'negative' 'negative' 'negative']\n"
     ]
    }
   ],
   "source": [
    "##predicting the model for tfidf features\n",
    "lr_tfidf_predict=logistic.predict(tf_test)\n",
    "print(lr_tfidf_predict)"
   ]
  },
  {
   "cell_type": "code",
   "execution_count": 73,
   "metadata": {
    "execution": {
     "iopub.execute_input": "2024-11-17T18:47:43.852359Z",
     "iopub.status.busy": "2024-11-17T18:47:43.851896Z",
     "iopub.status.idle": "2024-11-17T18:47:43.937406Z",
     "shell.execute_reply": "2024-11-17T18:47:43.936146Z",
     "shell.execute_reply.started": "2024-11-17T18:47:43.852315Z"
    },
    "trusted": true
   },
   "outputs": [
    {
     "name": "stdout",
     "output_type": "stream",
     "text": [
      "lr_bow_score: 0.59215\n"
     ]
    }
   ],
   "source": [
    "#Accuracy score for bag of words\n",
    "lr_bow_score=accuracy_score(test_data,lr_bow_predict)\n",
    "print(\"lr_bow_score:\",lr_bow_score)"
   ]
  },
  {
   "cell_type": "code",
   "execution_count": 77,
   "metadata": {
    "execution": {
     "iopub.execute_input": "2024-11-17T18:53:48.552802Z",
     "iopub.status.busy": "2024-11-17T18:53:48.552344Z",
     "iopub.status.idle": "2024-11-17T18:53:48.565316Z",
     "shell.execute_reply": "2024-11-17T18:53:48.564215Z",
     "shell.execute_reply.started": "2024-11-17T18:53:48.552744Z"
    },
    "trusted": true
   },
   "outputs": [
    {
     "name": "stdout",
     "output_type": "stream",
     "text": [
      "['negative' 'negative' 'negative' ... 'negative' 'negative' 'negative']\n"
     ]
    }
   ],
   "source": [
    "##Predicting the model for tfidf feature\n",
    "lr_tfidf_predict=logistic.predict(tf_test)\n",
    "print(lr_tfidf_predict)"
   ]
  },
  {
   "cell_type": "code",
   "execution_count": 81,
   "metadata": {
    "execution": {
     "iopub.execute_input": "2024-11-17T18:56:07.837758Z",
     "iopub.status.busy": "2024-11-17T18:56:07.836636Z",
     "iopub.status.idle": "2024-11-17T18:56:07.922129Z",
     "shell.execute_reply": "2024-11-17T18:56:07.920951Z",
     "shell.execute_reply.started": "2024-11-17T18:56:07.837710Z"
    },
    "trusted": true
   },
   "outputs": [
    {
     "name": "stdout",
     "output_type": "stream",
     "text": [
      "lr_tfidf_score 0.59215\n"
     ]
    }
   ],
   "source": [
    "#Accuracy score for tfdf features\n",
    "lr_tfidf_score=accuracy_score(test_data,lr_tfidf_predict)\n",
    "print(\"lr_tfidf_score\",lr_tfidf_score)"
   ]
  },
  {
   "cell_type": "code",
   "execution_count": null,
   "metadata": {},
   "outputs": [],
   "source": []
  }
 ],
 "metadata": {
  "kaggle": {
   "accelerator": "none",
   "dataSources": [
    {
     "datasetId": 134715,
     "sourceId": 320111,
     "sourceType": "datasetVersion"
    }
   ],
   "dockerImageVersionId": 30786,
   "isGpuEnabled": false,
   "isInternetEnabled": true,
   "language": "python",
   "sourceType": "notebook"
  },
  "kernelspec": {
   "display_name": ".venv",
   "language": "python",
   "name": "python3"
  },
  "language_info": {
   "codemirror_mode": {
    "name": "ipython",
    "version": 3
   },
   "file_extension": ".py",
   "mimetype": "text/x-python",
   "name": "python",
   "nbconvert_exporter": "python",
   "pygments_lexer": "ipython3",
   "version": "3.12.2"
  }
 },
 "nbformat": 4,
 "nbformat_minor": 4
}
